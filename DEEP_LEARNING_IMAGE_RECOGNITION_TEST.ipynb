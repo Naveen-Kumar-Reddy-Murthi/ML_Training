{
 "cells": [
  {
   "cell_type": "code",
   "execution_count": 1,
   "metadata": {},
   "outputs": [
    {
     "name": "stderr",
     "output_type": "stream",
     "text": [
      "Using TensorFlow backend.\n"
     ]
    }
   ],
   "source": [
    "# Part 1 - Building the CNN\n",
    "# Importing the Keras libraries and packages\n",
    "from keras.models import Sequential #initialise our neural network model as a sequential network\n",
    "from keras.layers import Conv2D # convolution operation for 2D images ,3D for Videos\n",
    "from keras.layers import MaxPooling2D #pooling operation\n",
    "from keras.layers import Flatten #Flattening is the process of converting all the resultant 2 dimensional arrays into a single long continuous linear vector\n",
    "from keras.layers import Dense"
   ]
  },
  {
   "cell_type": "code",
   "execution_count": 2,
   "metadata": {},
   "outputs": [
    {
     "name": "stderr",
     "output_type": "stream",
     "text": [
      "WARNING: Logging before flag parsing goes to stderr.\n",
      "W0801 05:07:45.043383  6240 deprecation_wrapper.py:119] From C:\\ProgramData\\Anaconda3\\lib\\site-packages\\keras\\backend\\tensorflow_backend.py:74: The name tf.get_default_graph is deprecated. Please use tf.compat.v1.get_default_graph instead.\n",
      "\n",
      "W0801 05:07:45.074636  6240 deprecation_wrapper.py:119] From C:\\ProgramData\\Anaconda3\\lib\\site-packages\\keras\\backend\\tensorflow_backend.py:517: The name tf.placeholder is deprecated. Please use tf.compat.v1.placeholder instead.\n",
      "\n",
      "W0801 05:07:45.074636  6240 deprecation_wrapper.py:119] From C:\\ProgramData\\Anaconda3\\lib\\site-packages\\keras\\backend\\tensorflow_backend.py:4138: The name tf.random_uniform is deprecated. Please use tf.random.uniform instead.\n",
      "\n"
     ]
    }
   ],
   "source": [
    "# Initialising the CNN\n",
    "classifier = Sequential()\n",
    "\n",
    "# Step 1 - Convolution\n",
    "classifier.add(Conv2D(32, (3, 3), input_shape = (64, 64, 3), activation = 'relu'))"
   ]
  },
  {
   "cell_type": "code",
   "execution_count": 3,
   "metadata": {},
   "outputs": [
    {
     "name": "stderr",
     "output_type": "stream",
     "text": [
      "W0801 05:07:50.419766  6240 deprecation_wrapper.py:119] From C:\\ProgramData\\Anaconda3\\lib\\site-packages\\keras\\backend\\tensorflow_backend.py:3976: The name tf.nn.max_pool is deprecated. Please use tf.nn.max_pool2d instead.\n",
      "\n"
     ]
    }
   ],
   "source": [
    "# Step 2 - Pooling\n",
    "classifier.add(MaxPooling2D(pool_size = (2, 2)))\n",
    "\n",
    "# Adding a second convolutional layer\n",
    "classifier.add(Conv2D(32, (3, 3), activation = 'relu'))\n",
    "classifier.add(MaxPooling2D(pool_size = (2, 2)))"
   ]
  },
  {
   "cell_type": "code",
   "execution_count": 4,
   "metadata": {},
   "outputs": [
    {
     "name": "stderr",
     "output_type": "stream",
     "text": [
      "W0801 05:07:53.514310  6240 deprecation_wrapper.py:119] From C:\\ProgramData\\Anaconda3\\lib\\site-packages\\keras\\optimizers.py:790: The name tf.train.Optimizer is deprecated. Please use tf.compat.v1.train.Optimizer instead.\n",
      "\n",
      "W0801 05:07:53.529930  6240 deprecation_wrapper.py:119] From C:\\ProgramData\\Anaconda3\\lib\\site-packages\\keras\\backend\\tensorflow_backend.py:3376: The name tf.log is deprecated. Please use tf.math.log instead.\n",
      "\n",
      "W0801 05:07:53.529930  6240 deprecation.py:323] From C:\\ProgramData\\Anaconda3\\lib\\site-packages\\tensorflow\\python\\ops\\nn_impl.py:180: add_dispatch_support.<locals>.wrapper (from tensorflow.python.ops.array_ops) is deprecated and will be removed in a future version.\n",
      "Instructions for updating:\n",
      "Use tf.where in 2.0, which has the same broadcast rule as np.where\n"
     ]
    }
   ],
   "source": [
    "# Step 3 - Flattening\n",
    "classifier.add(Flatten())\n",
    "\n",
    "# Step 4 - Full connection\n",
    "classifier.add(Dense(units = 128, activation = 'relu'))\n",
    "classifier.add(Dense(units = 1, activation = 'sigmoid'))\n",
    "\n",
    "#‘units’ is where we define the number of nodes that should be present in this hidden layer\n",
    "\n",
    "# Compiling the CNN\n",
    "classifier.compile(optimizer = 'adam', loss = 'binary_crossentropy', metrics = ['accuracy'])\n",
    "\n",
    "#Optimizer parameter is to choose the stochastic gradient descent algorithm.\n",
    "#Loss parameter is to choose the loss function.\n",
    "#Finally, the metrics parameter is to choose the performance metric."
   ]
  },
  {
   "cell_type": "code",
   "execution_count": 5,
   "metadata": {},
   "outputs": [
    {
     "name": "stdout",
     "output_type": "stream",
     "text": [
      "Found 99 images belonging to 2 classes.\n",
      "Found 40 images belonging to 2 classes.\n"
     ]
    }
   ],
   "source": [
    "# Part 2 - Fitting the CNN to the images\n",
    "#https://keras.io/preprocessing/image/\n",
    "\n",
    "from keras.preprocessing.image import ImageDataGenerator\n",
    "\n",
    "train_datagen = ImageDataGenerator(rescale = 1./255,\n",
    "shear_range = 0.2,\n",
    "zoom_range = 0.2,\n",
    "horizontal_flip = True)\n",
    "\n",
    "test_datagen = ImageDataGenerator(rescale = 1./255,shear_range = 0.2,\n",
    "zoom_range = 0.2,\n",
    "horizontal_flip = True)\n",
    "\n",
    "\n",
    "training_set = train_datagen.flow_from_directory('D:/data/CNN_Data/train_set',target_size = (64, 64),batch_size = 5,class_mode = 'binary')\n",
    "\n",
    "test_set = test_datagen.flow_from_directory('D:/data/CNN_Data/test_set',target_size = (64, 64),batch_size = 5,class_mode = 'binary')"
   ]
  },
  {
   "cell_type": "code",
   "execution_count": 6,
   "metadata": {},
   "outputs": [
    {
     "name": "stderr",
     "output_type": "stream",
     "text": [
      "W0801 05:08:07.476735  6240 deprecation_wrapper.py:119] From C:\\ProgramData\\Anaconda3\\lib\\site-packages\\keras\\backend\\tensorflow_backend.py:986: The name tf.assign_add is deprecated. Please use tf.compat.v1.assign_add instead.\n",
      "\n"
     ]
    },
    {
     "name": "stdout",
     "output_type": "stream",
     "text": [
      "Epoch 1/50\n",
      "50/50 [==============================] - 4s 80ms/step - loss: 0.6954 - acc: 0.5490 - val_loss: 0.7231 - val_acc: 0.5120\n",
      "Epoch 2/50\n",
      "50/50 [==============================] - 3s 61ms/step - loss: 0.6844 - acc: 0.5590 - val_loss: 0.6740 - val_acc: 0.5640\n",
      "Epoch 3/50\n",
      "50/50 [==============================] - 3s 58ms/step - loss: 0.6012 - acc: 0.6790 - val_loss: 0.6677 - val_acc: 0.5720\n",
      "Epoch 4/50\n",
      "50/50 [==============================] - 3s 59ms/step - loss: 0.5717 - acc: 0.6971 - val_loss: 0.6965 - val_acc: 0.6200\n",
      "Epoch 5/50\n",
      "50/50 [==============================] - 3s 64ms/step - loss: 0.4240 - acc: 0.7940 - val_loss: 1.0360 - val_acc: 0.5800\n",
      "Epoch 6/50\n",
      "50/50 [==============================] - 4s 71ms/step - loss: 0.4154 - acc: 0.8370 - val_loss: 0.9648 - val_acc: 0.6480\n",
      "Epoch 7/50\n",
      "50/50 [==============================] - 4s 75ms/step - loss: 0.2995 - acc: 0.8610 - val_loss: 1.1631 - val_acc: 0.6360\n",
      "Epoch 8/50\n",
      "50/50 [==============================] - 3s 69ms/step - loss: 0.2544 - acc: 0.9040 - val_loss: 1.0906 - val_acc: 0.6760\n",
      "Epoch 9/50\n",
      "50/50 [==============================] - 3s 67ms/step - loss: 0.2610 - acc: 0.9030 - val_loss: 1.1775 - val_acc: 0.5840\n",
      "Epoch 10/50\n",
      "50/50 [==============================] - 3s 68ms/step - loss: 0.1969 - acc: 0.9360 - val_loss: 1.4341 - val_acc: 0.6000\n",
      "Epoch 11/50\n",
      "50/50 [==============================] - 4s 71ms/step - loss: 0.1124 - acc: 0.9560 - val_loss: 1.4405 - val_acc: 0.6600\n",
      "Epoch 12/50\n",
      "50/50 [==============================] - 4s 72ms/step - loss: 0.1614 - acc: 0.9430 - val_loss: 1.7733 - val_acc: 0.6320\n",
      "Epoch 13/50\n",
      "50/50 [==============================] - 4s 76ms/step - loss: 0.0947 - acc: 0.9640 - val_loss: 1.7139 - val_acc: 0.6600\n",
      "Epoch 14/50\n",
      "50/50 [==============================] - 3s 66ms/step - loss: 0.1425 - acc: 0.9460 - val_loss: 1.8351 - val_acc: 0.6760\n",
      "Epoch 15/50\n",
      "50/50 [==============================] - 4s 82ms/step - loss: 0.1717 - acc: 0.9510 - val_loss: 1.3890 - val_acc: 0.7080\n",
      "Epoch 16/50\n",
      "50/50 [==============================] - 3s 67ms/step - loss: 0.0833 - acc: 0.9830 - val_loss: 1.9716 - val_acc: 0.6480\n",
      "Epoch 17/50\n",
      "50/50 [==============================] - 3s 66ms/step - loss: 0.1907 - acc: 0.9390 - val_loss: 1.7336 - val_acc: 0.6560\n",
      "Epoch 18/50\n",
      "50/50 [==============================] - 3s 65ms/step - loss: 0.1031 - acc: 0.9560 - val_loss: 1.9644 - val_acc: 0.6440\n",
      "Epoch 19/50\n",
      "50/50 [==============================] - 3s 70ms/step - loss: 0.0508 - acc: 0.9840 - val_loss: 1.9644 - val_acc: 0.6520\n",
      "Epoch 20/50\n",
      "50/50 [==============================] - 3s 60ms/step - loss: 0.0546 - acc: 0.9760 - val_loss: 2.2434 - val_acc: 0.6240\n",
      "Epoch 21/50\n",
      "50/50 [==============================] - 3s 62ms/step - loss: 0.1101 - acc: 0.9720 - val_loss: 1.5022 - val_acc: 0.6680\n",
      "Epoch 22/50\n",
      "50/50 [==============================] - 3s 58ms/step - loss: 0.0797 - acc: 0.9830 - val_loss: 1.8142 - val_acc: 0.6640\n",
      "Epoch 23/50\n",
      "50/50 [==============================] - 3s 60ms/step - loss: 0.0273 - acc: 1.0000 - val_loss: 2.0385 - val_acc: 0.7000\n",
      "Epoch 24/50\n",
      "50/50 [==============================] - 3s 59ms/step - loss: 0.0247 - acc: 0.9910 - val_loss: 2.3070 - val_acc: 0.6400\n",
      "Epoch 25/50\n",
      "50/50 [==============================] - 3s 59ms/step - loss: 0.0746 - acc: 0.9640 - val_loss: 2.0911 - val_acc: 0.6520\n",
      "Epoch 26/50\n",
      "50/50 [==============================] - 3s 62ms/step - loss: 0.1481 - acc: 0.9360 - val_loss: 2.2726 - val_acc: 0.6200\n",
      "Epoch 27/50\n",
      "50/50 [==============================] - 3s 59ms/step - loss: 0.0551 - acc: 0.9800 - val_loss: 2.1210 - val_acc: 0.6600\n",
      "Epoch 28/50\n",
      "50/50 [==============================] - 3s 62ms/step - loss: 0.0202 - acc: 0.9960 - val_loss: 2.5715 - val_acc: 0.6440\n",
      "Epoch 29/50\n",
      "50/50 [==============================] - 3s 59ms/step - loss: 0.0142 - acc: 1.0000 - val_loss: 2.4665 - val_acc: 0.6360\n",
      "Epoch 30/50\n",
      "50/50 [==============================] - 3s 60ms/step - loss: 0.0163 - acc: 1.0000 - val_loss: 2.3930 - val_acc: 0.6680\n",
      "Epoch 31/50\n",
      "50/50 [==============================] - 3s 62ms/step - loss: 0.0464 - acc: 0.9840 - val_loss: 3.1689 - val_acc: 0.6360\n",
      "Epoch 32/50\n",
      "50/50 [==============================] - 3s 63ms/step - loss: 0.1270 - acc: 0.9640 - val_loss: 2.0070 - val_acc: 0.5440\n",
      "Epoch 33/50\n",
      "50/50 [==============================] - 3s 62ms/step - loss: 0.0801 - acc: 0.9760 - val_loss: 2.0047 - val_acc: 0.6080\n",
      "Epoch 34/50\n",
      "50/50 [==============================] - 3s 62ms/step - loss: 0.0380 - acc: 0.9920 - val_loss: 2.3553 - val_acc: 0.6280\n",
      "Epoch 35/50\n",
      "50/50 [==============================] - 3s 62ms/step - loss: 0.0150 - acc: 0.9960 - val_loss: 2.3920 - val_acc: 0.6520\n",
      "Epoch 36/50\n",
      "50/50 [==============================] - 3s 61ms/step - loss: 0.0124 - acc: 0.9950 - val_loss: 2.5536 - val_acc: 0.6520\n",
      "Epoch 37/50\n",
      "50/50 [==============================] - 4s 76ms/step - loss: 0.0084 - acc: 0.9960 - val_loss: 2.7465 - val_acc: 0.6800\n",
      "Epoch 38/50\n",
      "50/50 [==============================] - 4s 75ms/step - loss: 0.0417 - acc: 0.9870 - val_loss: 2.4566 - val_acc: 0.6360\n",
      "Epoch 39/50\n",
      "50/50 [==============================] - 3s 68ms/step - loss: 0.0517 - acc: 0.9800 - val_loss: 2.4495 - val_acc: 0.6520\n",
      "Epoch 40/50\n",
      "50/50 [==============================] - 3s 61ms/step - loss: 0.0076 - acc: 1.0000 - val_loss: 2.6976 - val_acc: 0.6440\n",
      "Epoch 41/50\n",
      "50/50 [==============================] - 3s 62ms/step - loss: 0.0173 - acc: 0.9920 - val_loss: 2.9818 - val_acc: 0.6240\n",
      "Epoch 42/50\n",
      "50/50 [==============================] - 3s 60ms/step - loss: 0.0103 - acc: 0.9960 - val_loss: 2.4303 - val_acc: 0.6960\n",
      "Epoch 43/50\n",
      "50/50 [==============================] - 3s 62ms/step - loss: 0.0759 - acc: 0.9920 - val_loss: 2.4968 - val_acc: 0.6640\n",
      "Epoch 44/50\n",
      "50/50 [==============================] - 3s 61ms/step - loss: 0.1898 - acc: 0.9440 - val_loss: 3.1100 - val_acc: 0.5320\n",
      "Epoch 45/50\n",
      "50/50 [==============================] - 3s 61ms/step - loss: 0.1317 - acc: 0.9590 - val_loss: 2.1135 - val_acc: 0.6720\n",
      "Epoch 46/50\n",
      "50/50 [==============================] - 3s 64ms/step - loss: 0.0414 - acc: 0.9800 - val_loss: 2.3469 - val_acc: 0.6640\n",
      "Epoch 47/50\n",
      "50/50 [==============================] - 3s 64ms/step - loss: 0.0717 - acc: 0.9710 - val_loss: 2.3153 - val_acc: 0.6120\n",
      "Epoch 48/50\n",
      "50/50 [==============================] - 3s 65ms/step - loss: 0.0207 - acc: 0.9960 - val_loss: 2.5697 - val_acc: 0.6200\n",
      "Epoch 49/50\n",
      "50/50 [==============================] - 3s 61ms/step - loss: 0.0102 - acc: 1.0000 - val_loss: 2.5693 - val_acc: 0.5920\n",
      "Epoch 50/50\n",
      "50/50 [==============================] - 3s 62ms/step - loss: 0.0378 - acc: 0.9840 - val_loss: 2.7479 - val_acc: 0.6240\n"
     ]
    },
    {
     "data": {
      "text/plain": [
       "<keras.callbacks.History at 0x20b95650390>"
      ]
     },
     "execution_count": 6,
     "metadata": {},
     "output_type": "execute_result"
    }
   ],
   "source": [
    "classifier.fit_generator(training_set,\n",
    "steps_per_epoch = 50,\n",
    "epochs = 50,\n",
    "validation_data = test_set,\n",
    "validation_steps = 50)\n"
   ]
  },
  {
   "cell_type": "code",
   "execution_count": 7,
   "metadata": {},
   "outputs": [
    {
     "name": "stdout",
     "output_type": "stream",
     "text": [
      "{'cats': 0, 'dogs': 1}\n"
     ]
    }
   ],
   "source": [
    "print(training_set.class_indices)"
   ]
  },
  {
   "cell_type": "code",
   "execution_count": 9,
   "metadata": {},
   "outputs": [],
   "source": [
    "####Correct ########################\n",
    "# Part 3 - Making new predictions\n",
    "import numpy as np\n",
    "from keras.preprocessing import image\n",
    "test_image = image.load_img('D:/data/CNN_Data/single_prediction/cat_or_dog_2.jpg', target_size = (64, 64))\n",
    "test_image = image.img_to_array(test_image)\n",
    "test_image = np.expand_dims(test_image, axis = 0)\n",
    "result = classifier.predict(test_image)\n",
    "\n",
    "training_set.class_indices\n",
    "#if result[0][0] == 1:\n",
    "if result[[0]] == 1:\n",
    "    prediction = 'It is a Dog'\n",
    "else:\n",
    "    prediction = 'It is a Cat'\n",
    "    "
   ]
  },
  {
   "cell_type": "code",
   "execution_count": 10,
   "metadata": {},
   "outputs": [
    {
     "name": "stdout",
     "output_type": "stream",
     "text": [
      "[[0.]]\n"
     ]
    }
   ],
   "source": [
    "print(result)"
   ]
  },
  {
   "cell_type": "code",
   "execution_count": 11,
   "metadata": {},
   "outputs": [
    {
     "data": {
      "text/plain": [
       "'It is a Cat'"
      ]
     },
     "execution_count": 11,
     "metadata": {},
     "output_type": "execute_result"
    }
   ],
   "source": [
    "prediction"
   ]
  }
 ],
 "metadata": {
  "kernelspec": {
   "display_name": "Python 3",
   "language": "python",
   "name": "python3"
  },
  "language_info": {
   "codemirror_mode": {
    "name": "ipython",
    "version": 3
   },
   "file_extension": ".py",
   "mimetype": "text/x-python",
   "name": "python",
   "nbconvert_exporter": "python",
   "pygments_lexer": "ipython3",
   "version": "3.7.3"
  }
 },
 "nbformat": 4,
 "nbformat_minor": 2
}
