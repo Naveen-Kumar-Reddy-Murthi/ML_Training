{
 "cells": [
  {
   "cell_type": "code",
   "execution_count": 3,
   "metadata": {},
   "outputs": [
    {
     "name": "stdout",
     "output_type": "stream",
     "text": [
      "  smscategory                                                sms\n",
      "0         ham  Go until jurong point, crazy.. Available only ...\n",
      "1         ham                      Ok lar... Joking wif u oni...\n",
      "2        spam  Free entry in 2 a wkly comp to win FA Cup fina...\n",
      "3         ham  U dun say so early hor... U c already then say...\n",
      "4         ham  Nah I don't think he goes to usf, he lives aro...\n"
     ]
    }
   ],
   "source": [
    "import pandas as ps\n",
    "\n",
    "url =\"D:/data/smsspamcollection/SMSSpamCollection\"\n",
    "data = ps.read_csv(url,delimiter='\\t',names=['smscategory','sms'])\n",
    "print(data.head())"
   ]
  },
  {
   "cell_type": "code",
   "execution_count": 15,
   "metadata": {},
   "outputs": [
    {
     "data": {
      "text/plain": [
       "<4179x7471 sparse matrix of type '<class 'numpy.float64'>'\n",
       "\twith 55301 stored elements in Compressed Sparse Row format>"
      ]
     },
     "execution_count": 15,
     "metadata": {},
     "output_type": "execute_result"
    }
   ],
   "source": [
    "import numpy as np\n",
    "from sklearn.feature_extraction.text import TfidfVectorizer\n",
    "from sklearn.linear_model.logistic import LogisticRegression\n",
    "from sklearn.model_selection import train_test_split, cross_val_score\n",
    "\n",
    "data.describe()\n",
    "data.smscategory.value_counts()\n",
    "\n",
    "X_train_raw, X_test_raw, Y_train, Y_test = train_test_split(data.sms, data.smscategory, stratify=data.smscategory)\n",
    "\n",
    "X_test_raw.head()\n",
    "\n",
    "vectorizer = TfidfVectorizer()\n",
    "X_train = vectorizer.fit_transform(X_train_raw)\n",
    "X_test  = vectorizer.transform(X_test_raw)\n",
    "\n",
    "X_train\n"
   ]
  },
  {
   "cell_type": "code",
   "execution_count": 18,
   "metadata": {},
   "outputs": [
    {
     "name": "stdout",
     "output_type": "stream",
     "text": [
      "Wall time: 88.9 ms\n",
      "0.9124410886037714 [0.88928571 0.92831541 0.92446043 0.92446043 0.89568345]\n"
     ]
    },
    {
     "data": {
      "text/plain": [
       "array(['ham', 'spam', 'ham', ..., 'ham', 'ham', 'ham'], dtype=object)"
      ]
     },
     "execution_count": 18,
     "metadata": {},
     "output_type": "execute_result"
    }
   ],
   "source": [
    "classifier = LogisticRegression(solver = 'lbfgs')\n",
    "%time classifier.fit(X_train, Y_train)\n",
    "scores = cross_val_score(classifier, X_test, Y_test, cv =5)\n",
    "print(np.mean(scores),scores)\n",
    "\n"
   ]
  },
  {
   "cell_type": "code",
   "execution_count": 35,
   "metadata": {},
   "outputs": [
    {
     "name": "stdout",
     "output_type": "stream",
     "text": [
      "<class 'pandas.core.frame.DataFrame'>\n",
      "       0\n",
      "0    ham\n",
      "1    ham\n",
      "2    ham\n",
      "3    ham\n",
      "4    ham\n",
      "5    ham\n",
      "6   spam\n",
      "7    ham\n",
      "8   spam\n",
      "9    ham\n",
      "10   ham\n",
      "11   ham\n",
      "12   ham\n",
      "13   ham\n",
      "14   ham\n",
      "15   ham\n",
      "16   ham\n",
      "17   ham\n",
      "18   ham\n",
      "19   ham\n",
      "20   ham\n",
      "21   ham\n",
      "22   ham\n",
      "23   ham\n",
      "24   ham\n",
      "25   ham\n",
      "26   ham\n",
      "27   ham\n",
      "28   ham\n",
      "29   ham\n",
      "..   ...\n",
      "69   ham\n",
      "70   ham\n",
      "71   ham\n",
      "72   ham\n",
      "73   ham\n",
      "74   ham\n",
      "75  spam\n",
      "76  spam\n",
      "77   ham\n",
      "78   ham\n",
      "79   ham\n",
      "80  spam\n",
      "81   ham\n",
      "82   ham\n",
      "83   ham\n",
      "84   ham\n",
      "85   ham\n",
      "86   ham\n",
      "87   ham\n",
      "88  spam\n",
      "89   ham\n",
      "90   ham\n",
      "91   ham\n",
      "92   ham\n",
      "93   ham\n",
      "94   ham\n",
      "95   ham\n",
      "96   ham\n",
      "97   ham\n",
      "98   ham\n",
      "\n",
      "[99 rows x 1 columns]\n",
      "          0\n",
      "count    99\n",
      "unique    2\n",
      "top     ham\n",
      "freq     86\n"
     ]
    }
   ],
   "source": [
    "data2 = ps.read_csv(\"D:/data/Newdata_SMS_X/smsnew.txt\",delimiter='\\t',names=['sms'])\n",
    "smsnew = data2.sms\n",
    "newdata = vectorizer.transform(smsnew)\n",
    "# print(newdata)\n",
    "\n",
    "predict_smscatetory =  ps.DataFrame(classifier.predict(newdata))\n",
    "print(type(predict_smscatetory))\n",
    "\n",
    "print(predict_smscatetory)\n",
    "print(predict_smscatetory.describe())\n"
   ]
  }
 ],
 "metadata": {
  "kernelspec": {
   "display_name": "Python 3",
   "language": "python",
   "name": "python3"
  },
  "language_info": {
   "codemirror_mode": {
    "name": "ipython",
    "version": 3
   },
   "file_extension": ".py",
   "mimetype": "text/x-python",
   "name": "python",
   "nbconvert_exporter": "python",
   "pygments_lexer": "ipython3",
   "version": "3.7.3"
  }
 },
 "nbformat": 4,
 "nbformat_minor": 2
}
