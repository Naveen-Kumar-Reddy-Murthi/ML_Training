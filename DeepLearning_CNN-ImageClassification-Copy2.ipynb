{
 "cells": [
  {
   "cell_type": "markdown",
   "metadata": {},
   "source": [
    " Convolutional Neural Network\n",
    "\n",
    "\n",
    "\n"
   ]
  },
  {
   "cell_type": "code",
   "execution_count": 19,
   "metadata": {},
   "outputs": [],
   "source": [
    "#import keras"
   ]
  },
  {
   "cell_type": "code",
   "execution_count": 20,
   "metadata": {},
   "outputs": [],
   "source": [
    "#!pip install msgpack\n",
    "#!pip install --upgrade tensorflow\n",
    "#!pip install --upgrade keras"
   ]
  },
  {
   "cell_type": "code",
   "execution_count": 21,
   "metadata": {},
   "outputs": [],
   "source": [
    "# Part 1 - Building the CNN\n",
    "# Importing the Keras libraries and packages\n",
    "from keras.models import Sequential #initialise our neural network model as a sequential network\n",
    "from keras.layers import Conv2D # convolution operation for 2D images ,3D for Videos\n",
    "from keras.layers import MaxPooling2D #pooling operation\n",
    "from keras.layers import Flatten #Flattening is the process of converting all the resultant 2 dimensional arrays into a single long continuous linear vector\n",
    "from keras.layers import Dense"
   ]
  },
  {
   "cell_type": "code",
   "execution_count": 22,
   "metadata": {},
   "outputs": [],
   "source": [
    "# Initialising the CNN\n",
    "classifier = Sequential()\n",
    "\n",
    "# Step 1 - Convolution\n",
    "classifier.add(Conv2D(32, (3, 3), input_shape = (64, 64, 3), activation = 'relu'))"
   ]
  },
  {
   "cell_type": "code",
   "execution_count": 23,
   "metadata": {},
   "outputs": [],
   "source": [
    "# Step 2 - Pooling\n",
    "classifier.add(MaxPooling2D(pool_size = (2, 2)))\n",
    "\n",
    "# Adding a second convolutional layer\n",
    "classifier.add(Conv2D(32, (3, 3), activation = 'relu'))\n",
    "classifier.add(MaxPooling2D(pool_size = (2, 2)))"
   ]
  },
  {
   "cell_type": "code",
   "execution_count": 24,
   "metadata": {},
   "outputs": [],
   "source": [
    "# Step 3 - Flattening\n",
    "classifier.add(Flatten())\n",
    "\n",
    "# Step 4 - Full connection\n",
    "classifier.add(Dense(units = 128, activation = 'relu'))\n",
    "classifier.add(Dense(units = 1, activation = 'sigmoid'))\n",
    "\n",
    "#‘units’ is where we define the number of nodes that should be present in this hidden layer\n",
    "\n",
    "# Compiling the CNN\n",
    "classifier.compile(optimizer = 'adam', loss = 'binary_crossentropy', metrics = ['accuracy'])\n",
    "\n",
    "#Optimizer parameter is to choose the stochastic gradient descent algorithm.\n",
    "#Loss parameter is to choose the loss function.\n",
    "#Finally, the metrics parameter is to choose the performance metric."
   ]
  },
  {
   "cell_type": "code",
   "execution_count": 25,
   "metadata": {},
   "outputs": [
    {
     "name": "stdout",
     "output_type": "stream",
     "text": [
      "Found 18 images belonging to 2 classes.\n",
      "Found 10 images belonging to 2 classes.\n"
     ]
    }
   ],
   "source": [
    "# Part 2 - Fitting the CNN to the images\n",
    "#https://keras.io/preprocessing/image/\n",
    "\n",
    "from keras.preprocessing.image import ImageDataGenerator\n",
    "\n",
    "train_datagen = ImageDataGenerator(rescale = 1./255,\n",
    "shear_range = 0.2,\n",
    "zoom_range = 0.2,\n",
    "horizontal_flip = True)\n",
    "\n",
    "test_datagen = ImageDataGenerator(rescale = 1./255,shear_range = 0.2,\n",
    "zoom_range = 0.2,\n",
    "horizontal_flip = True)\n",
    "\n",
    "\n",
    "training_set = train_datagen.flow_from_directory('D:/data/CNN_Data/train1_set',target_size = (64, 64),batch_size = 5,class_mode = 'binary')\n",
    "\n",
    "test_set = test_datagen.flow_from_directory('D:/data/CNN_Data/test1_set',target_size = (64, 64),batch_size = 5,class_mode = 'binary')"
   ]
  },
  {
   "cell_type": "code",
   "execution_count": 26,
   "metadata": {},
   "outputs": [
    {
     "name": "stdout",
     "output_type": "stream",
     "text": [
      "Epoch 1/50\n",
      "50/50 [==============================] - 3s 62ms/step - loss: 0.2545 - acc: 0.8853 - val_loss: 0.0268 - val_acc: 0.9960\n",
      "Epoch 2/50\n",
      "50/50 [==============================] - 2s 47ms/step - loss: 0.0070 - acc: 1.0000 - val_loss: 8.1333e-04 - val_acc: 1.0000\n",
      "Epoch 3/50\n",
      "50/50 [==============================] - 3s 51ms/step - loss: 4.4495e-04 - acc: 1.0000 - val_loss: 1.0383e-04 - val_acc: 1.0000\n",
      "Epoch 4/50\n",
      "50/50 [==============================] - 2s 48ms/step - loss: 4.1246e-04 - acc: 1.0000 - val_loss: 8.8584e-05 - val_acc: 1.0000\n",
      "Epoch 5/50\n",
      "50/50 [==============================] - 3s 56ms/step - loss: 1.3954e-04 - acc: 1.0000 - val_loss: 3.2185e-05 - val_acc: 1.0000\n",
      "Epoch 6/50\n",
      "50/50 [==============================] - 2s 49ms/step - loss: 6.7220e-05 - acc: 1.0000 - val_loss: 6.1844e-05 - val_acc: 1.0000\n",
      "Epoch 7/50\n",
      "50/50 [==============================] - 3s 51ms/step - loss: 2.2758e-04 - acc: 1.0000 - val_loss: 1.8100e-04 - val_acc: 1.0000\n",
      "Epoch 8/50\n",
      "50/50 [==============================] - 3s 52ms/step - loss: 0.2467 - acc: 0.9507 - val_loss: 0.0073 - val_acc: 0.9960\n",
      "Epoch 9/50\n",
      "50/50 [==============================] - 3s 52ms/step - loss: 0.0117 - acc: 0.9960 - val_loss: 0.0037 - val_acc: 1.0000\n",
      "Epoch 10/50\n",
      "50/50 [==============================] - 3s 53ms/step - loss: 0.0024 - acc: 1.0000 - val_loss: 0.0010 - val_acc: 1.0000\n",
      "Epoch 11/50\n",
      "50/50 [==============================] - 3s 51ms/step - loss: 4.4950e-04 - acc: 1.0000 - val_loss: 7.7989e-05 - val_acc: 1.0000\n",
      "Epoch 12/50\n",
      "50/50 [==============================] - 3s 53ms/step - loss: 6.3082e-05 - acc: 1.0000 - val_loss: 3.9044e-05 - val_acc: 1.0000\n",
      "Epoch 13/50\n",
      "50/50 [==============================] - 3s 52ms/step - loss: 2.5395e-05 - acc: 1.0000 - val_loss: 2.1391e-05 - val_acc: 1.0000\n",
      "Epoch 14/50\n",
      "50/50 [==============================] - 3s 50ms/step - loss: 2.2114e-05 - acc: 1.0000 - val_loss: 1.0625e-05 - val_acc: 1.0000\n",
      "Epoch 15/50\n",
      "50/50 [==============================] - 2s 50ms/step - loss: 2.6780e-05 - acc: 1.0000 - val_loss: 1.6092e-05 - val_acc: 1.0000\n",
      "Epoch 16/50\n",
      "50/50 [==============================] - 3s 51ms/step - loss: 1.4402e-05 - acc: 1.0000 - val_loss: 1.0479e-05 - val_acc: 1.0000\n",
      "Epoch 17/50\n",
      "50/50 [==============================] - 2s 48ms/step - loss: 1.3763e-05 - acc: 1.0000 - val_loss: 7.9496e-06 - val_acc: 1.0000\n",
      "Epoch 18/50\n",
      "50/50 [==============================] - 2s 47ms/step - loss: 1.2351e-05 - acc: 1.0000 - val_loss: 9.7865e-06 - val_acc: 1.0000\n",
      "Epoch 19/50\n",
      "50/50 [==============================] - 2s 50ms/step - loss: 8.0469e-06 - acc: 1.0000 - val_loss: 6.3698e-06 - val_acc: 1.0000\n",
      "Epoch 20/50\n",
      "50/50 [==============================] - 3s 52ms/step - loss: 5.5809e-06 - acc: 1.0000 - val_loss: 6.9518e-06 - val_acc: 1.0000\n",
      "Epoch 21/50\n",
      "50/50 [==============================] - 2s 49ms/step - loss: 8.3977e-06 - acc: 1.0000 - val_loss: 6.5027e-06 - val_acc: 1.0000\n",
      "Epoch 22/50\n",
      "50/50 [==============================] - 3s 53ms/step - loss: 6.6380e-06 - acc: 1.0000 - val_loss: 3.3833e-06 - val_acc: 1.0000\n",
      "Epoch 23/50\n",
      "50/50 [==============================] - 2s 49ms/step - loss: 3.1667e-06 - acc: 1.0000 - val_loss: 5.0372e-06 - val_acc: 1.0000\n",
      "Epoch 24/50\n",
      "50/50 [==============================] - 3s 52ms/step - loss: 5.6338e-06 - acc: 1.0000 - val_loss: 4.6259e-06 - val_acc: 1.0000\n",
      "Epoch 25/50\n",
      "50/50 [==============================] - 3s 51ms/step - loss: 3.8105e-06 - acc: 1.0000 - val_loss: 3.3685e-06 - val_acc: 1.0000\n",
      "Epoch 26/50\n",
      "50/50 [==============================] - 2s 49ms/step - loss: 3.2093e-06 - acc: 1.0000 - val_loss: 1.8686e-06 - val_acc: 1.0000\n",
      "Epoch 27/50\n",
      "50/50 [==============================] - 2s 50ms/step - loss: 3.3927e-06 - acc: 1.0000 - val_loss: 2.6372e-06 - val_acc: 1.0000\n",
      "Epoch 28/50\n",
      "50/50 [==============================] - 3s 51ms/step - loss: 3.9092e-06 - acc: 1.0000 - val_loss: 2.0193e-06 - val_acc: 1.0000\n",
      "Epoch 29/50\n",
      "50/50 [==============================] - 2s 48ms/step - loss: 2.6701e-06 - acc: 1.0000 - val_loss: 2.1172e-06 - val_acc: 1.0000\n",
      "Epoch 30/50\n",
      "50/50 [==============================] - 2s 46ms/step - loss: 2.9026e-06 - acc: 1.0000 - val_loss: 2.7729e-06 - val_acc: 1.0000\n",
      "Epoch 31/50\n",
      "50/50 [==============================] - 2s 48ms/step - loss: 2.2333e-06 - acc: 1.0000 - val_loss: 1.8374e-06 - val_acc: 1.0000\n",
      "Epoch 32/50\n",
      "50/50 [==============================] - 2s 48ms/step - loss: 1.6232e-06 - acc: 1.0000 - val_loss: 1.3269e-06 - val_acc: 1.0000\n",
      "Epoch 33/50\n",
      "50/50 [==============================] - 2s 48ms/step - loss: 3.0008e-06 - acc: 1.0000 - val_loss: 2.1074e-06 - val_acc: 1.0000\n",
      "Epoch 34/50\n",
      "50/50 [==============================] - 2s 47ms/step - loss: 2.2208e-06 - acc: 1.0000 - val_loss: 1.3471e-06 - val_acc: 1.0000\n",
      "Epoch 35/50\n",
      "50/50 [==============================] - 2s 50ms/step - loss: 1.9748e-06 - acc: 1.0000 - val_loss: 1.5306e-06 - val_acc: 1.0000\n",
      "Epoch 36/50\n",
      "50/50 [==============================] - 3s 50ms/step - loss: 2.3880e-06 - acc: 1.0000 - val_loss: 1.0123e-06 - val_acc: 1.0000\n",
      "Epoch 37/50\n",
      "50/50 [==============================] - 3s 64ms/step - loss: 1.9215e-06 - acc: 1.0000 - val_loss: 1.2292e-06 - val_acc: 1.0000\n",
      "Epoch 38/50\n",
      "50/50 [==============================] - 3s 50ms/step - loss: 1.6232e-06 - acc: 1.0000 - val_loss: 1.0602e-06 - val_acc: 1.0000\n",
      "Epoch 39/50\n",
      "50/50 [==============================] - 3s 59ms/step - loss: 1.1948e-06 - acc: 1.0000 - val_loss: 1.0116e-06 - val_acc: 1.0000\n",
      "Epoch 40/50\n",
      "50/50 [==============================] - 3s 64ms/step - loss: 1.5875e-06 - acc: 1.0000 - val_loss: 1.1973e-06 - val_acc: 1.0000\n",
      "Epoch 41/50\n",
      "50/50 [==============================] - 3s 57ms/step - loss: 1.9958e-06 - acc: 1.0000 - val_loss: 1.2194e-06 - val_acc: 1.0000\n",
      "Epoch 42/50\n",
      "50/50 [==============================] - 3s 52ms/step - loss: 1.2847e-06 - acc: 1.0000 - val_loss: 9.8389e-07 - val_acc: 1.0000\n",
      "Epoch 43/50\n",
      "50/50 [==============================] - 3s 63ms/step - loss: 7.4272e-07 - acc: 1.0000 - val_loss: 7.5081e-07 - val_acc: 1.0000\n",
      "Epoch 44/50\n",
      "50/50 [==============================] - 3s 51ms/step - loss: 9.4729e-07 - acc: 1.0000 - val_loss: 7.6799e-07 - val_acc: 1.0000\n",
      "Epoch 45/50\n",
      "50/50 [==============================] - 2s 48ms/step - loss: 1.3912e-06 - acc: 1.0000 - val_loss: 9.1843e-07 - val_acc: 1.0000\n",
      "Epoch 46/50\n",
      "50/50 [==============================] - 3s 52ms/step - loss: 1.6002e-06 - acc: 1.0000 - val_loss: 1.0032e-06 - val_acc: 1.0000\n",
      "Epoch 47/50\n",
      "50/50 [==============================] - 2s 49ms/step - loss: 8.5439e-07 - acc: 1.0000 - val_loss: 7.0107e-07 - val_acc: 1.0000\n",
      "Epoch 48/50\n",
      "50/50 [==============================] - 2s 48ms/step - loss: 1.0370e-06 - acc: 1.0000 - val_loss: 1.4550e-06 - val_acc: 1.0000\n",
      "Epoch 49/50\n",
      "50/50 [==============================] - 2s 49ms/step - loss: 1.2276e-06 - acc: 1.0000 - val_loss: 5.1343e-07 - val_acc: 1.0000\n",
      "Epoch 50/50\n",
      "50/50 [==============================] - 3s 54ms/step - loss: 1.7774e-06 - acc: 1.0000 - val_loss: 8.5993e-07 - val_acc: 1.0000\n"
     ]
    },
    {
     "data": {
      "text/plain": [
       "<keras.callbacks.History at 0x2060008dc18>"
      ]
     },
     "execution_count": 26,
     "metadata": {},
     "output_type": "execute_result"
    }
   ],
   "source": [
    "classifier.fit_generator(training_set,\n",
    "steps_per_epoch = 50,\n",
    "epochs = 50,\n",
    "validation_data = test_set,\n",
    "validation_steps = 50)\n"
   ]
  },
  {
   "cell_type": "code",
   "execution_count": 27,
   "metadata": {},
   "outputs": [
    {
     "name": "stdout",
     "output_type": "stream",
     "text": [
      "{'circle': 0, 'triangle': 1}\n"
     ]
    }
   ],
   "source": [
    "print(training_set.class_indices)"
   ]
  },
  {
   "cell_type": "code",
   "execution_count": 28,
   "metadata": {},
   "outputs": [],
   "source": [
    "####Correct ########################\n",
    "# Part 3 - Making new predictions\n",
    "import numpy as np\n",
    "from keras.preprocessing import image\n",
    "test_image = image.load_img('D:/data/CNN_Data/single_prediction1/images1.jpg', target_size = (64, 64))\n",
    "test_image = image.img_to_array(test_image)\n",
    "test_image = np.expand_dims(test_image, axis = 0)\n",
    "result = classifier.predict(test_image)\n",
    "\n",
    "training_set.class_indices\n",
    "#if result[0][0] == 1:\n",
    "if result[[0]] == 1:\n",
    "    prediction = 'triangle'\n",
    "else:\n",
    "    prediction = 'circle'\n",
    "    "
   ]
  },
  {
   "cell_type": "code",
   "execution_count": 29,
   "metadata": {},
   "outputs": [
    {
     "name": "stdout",
     "output_type": "stream",
     "text": [
      "[[0.]]\n"
     ]
    }
   ],
   "source": [
    "print(result)"
   ]
  },
  {
   "cell_type": "code",
   "execution_count": 30,
   "metadata": {},
   "outputs": [
    {
     "data": {
      "text/plain": [
       "'circle'"
      ]
     },
     "execution_count": 30,
     "metadata": {},
     "output_type": "execute_result"
    }
   ],
   "source": [
    "prediction"
   ]
  }
 ],
 "metadata": {
  "kernelspec": {
   "display_name": "Python 3",
   "language": "python",
   "name": "python3"
  },
  "language_info": {
   "codemirror_mode": {
    "name": "ipython",
    "version": 3
   },
   "file_extension": ".py",
   "mimetype": "text/x-python",
   "name": "python",
   "nbconvert_exporter": "python",
   "pygments_lexer": "ipython3",
   "version": "3.7.3"
  }
 },
 "nbformat": 4,
 "nbformat_minor": 2
}
